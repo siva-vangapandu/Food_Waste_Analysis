{
 "cells": [
  {
   "cell_type": "code",
   "execution_count": 1,
   "id": "6c8aadd5",
   "metadata": {},
   "outputs": [],
   "source": [
    "import pandas as pd\n",
    "import numpy as np\n",
    "import matplotlib.pyplot as plt"
   ]
  },
  {
   "cell_type": "markdown",
   "id": "04562c5d",
   "metadata": {},
   "source": [
    "* Loading Dataset"
   ]
  },
  {
   "cell_type": "code",
   "execution_count": 231,
   "id": "affcad85",
   "metadata": {},
   "outputs": [],
   "source": [
    "data=pd.read_csv(r\"C:\\Users\\vsiva\\Desktop\\Data Analyst\\python-Pandas\\food_waste\\Food Waste data and research - by country.csv\")"
   ]
  },
  {
   "cell_type": "markdown",
   "id": "0b4cb110",
   "metadata": {},
   "source": [
    "* Understanding the Data"
   ]
  },
  {
   "cell_type": "code",
   "execution_count": 5,
   "id": "f5c3d41a",
   "metadata": {},
   "outputs": [
    {
     "data": {
      "text/html": [
       "<div>\n",
       "<style scoped>\n",
       "    .dataframe tbody tr th:only-of-type {\n",
       "        vertical-align: middle;\n",
       "    }\n",
       "\n",
       "    .dataframe tbody tr th {\n",
       "        vertical-align: top;\n",
       "    }\n",
       "\n",
       "    .dataframe thead th {\n",
       "        text-align: right;\n",
       "    }\n",
       "</style>\n",
       "<table border=\"1\" class=\"dataframe\">\n",
       "  <thead>\n",
       "    <tr style=\"text-align: right;\">\n",
       "      <th></th>\n",
       "      <th>Country</th>\n",
       "      <th>combined figures (kg/capita/year)</th>\n",
       "      <th>Household estimate (kg/capita/year)</th>\n",
       "      <th>Household estimate (tonnes/year)</th>\n",
       "      <th>Retail estimate (kg/capita/year)</th>\n",
       "      <th>Retail estimate (tonnes/year)</th>\n",
       "      <th>Food service estimate (kg/capita/year)</th>\n",
       "      <th>Food service estimate (tonnes/year)</th>\n",
       "      <th>Confidence in estimate</th>\n",
       "      <th>M49 code</th>\n",
       "      <th>Region</th>\n",
       "      <th>Source</th>\n",
       "    </tr>\n",
       "  </thead>\n",
       "  <tbody>\n",
       "    <tr>\n",
       "      <th>0</th>\n",
       "      <td>Afghanistan</td>\n",
       "      <td>126</td>\n",
       "      <td>82</td>\n",
       "      <td>3109153</td>\n",
       "      <td>16</td>\n",
       "      <td>594982</td>\n",
       "      <td>28</td>\n",
       "      <td>1051783</td>\n",
       "      <td>Very Low Confidence</td>\n",
       "      <td>4</td>\n",
       "      <td>Southern Asia</td>\n",
       "      <td>https://www.unep.org/resources/report/unep-foo...</td>\n",
       "    </tr>\n",
       "    <tr>\n",
       "      <th>1</th>\n",
       "      <td>Albania</td>\n",
       "      <td>127</td>\n",
       "      <td>83</td>\n",
       "      <td>238492</td>\n",
       "      <td>16</td>\n",
       "      <td>45058</td>\n",
       "      <td>28</td>\n",
       "      <td>79651</td>\n",
       "      <td>Very Low Confidence</td>\n",
       "      <td>8</td>\n",
       "      <td>Southern Europe</td>\n",
       "      <td>https://www.unep.org/resources/report/unep-foo...</td>\n",
       "    </tr>\n",
       "    <tr>\n",
       "      <th>2</th>\n",
       "      <td>Algeria</td>\n",
       "      <td>135</td>\n",
       "      <td>91</td>\n",
       "      <td>3918529</td>\n",
       "      <td>16</td>\n",
       "      <td>673360</td>\n",
       "      <td>28</td>\n",
       "      <td>1190335</td>\n",
       "      <td>Very Low Confidence</td>\n",
       "      <td>12</td>\n",
       "      <td>Northern Africa</td>\n",
       "      <td>https://www.unep.org/resources/report/unep-foo...</td>\n",
       "    </tr>\n",
       "    <tr>\n",
       "      <th>3</th>\n",
       "      <td>Andorra</td>\n",
       "      <td>123</td>\n",
       "      <td>84</td>\n",
       "      <td>6497</td>\n",
       "      <td>13</td>\n",
       "      <td>988</td>\n",
       "      <td>26</td>\n",
       "      <td>1971</td>\n",
       "      <td>Low Confidence</td>\n",
       "      <td>20</td>\n",
       "      <td>Southern Europe</td>\n",
       "      <td>https://www.unep.org/resources/report/unep-foo...</td>\n",
       "    </tr>\n",
       "    <tr>\n",
       "      <th>4</th>\n",
       "      <td>Angola</td>\n",
       "      <td>144</td>\n",
       "      <td>100</td>\n",
       "      <td>3169523</td>\n",
       "      <td>16</td>\n",
       "      <td>497755</td>\n",
       "      <td>28</td>\n",
       "      <td>879908</td>\n",
       "      <td>Very Low Confidence</td>\n",
       "      <td>24</td>\n",
       "      <td>Sub-Saharan Africa</td>\n",
       "      <td>https://www.unep.org/resources/report/unep-foo...</td>\n",
       "    </tr>\n",
       "  </tbody>\n",
       "</table>\n",
       "</div>"
      ],
      "text/plain": [
       "       Country  combined figures (kg/capita/year)  \\\n",
       "0  Afghanistan                                126   \n",
       "1      Albania                                127   \n",
       "2      Algeria                                135   \n",
       "3      Andorra                                123   \n",
       "4       Angola                                144   \n",
       "\n",
       "   Household estimate (kg/capita/year)  Household estimate (tonnes/year)  \\\n",
       "0                                   82                           3109153   \n",
       "1                                   83                            238492   \n",
       "2                                   91                           3918529   \n",
       "3                                   84                              6497   \n",
       "4                                  100                           3169523   \n",
       "\n",
       "   Retail estimate (kg/capita/year)  Retail estimate (tonnes/year)  \\\n",
       "0                                16                         594982   \n",
       "1                                16                          45058   \n",
       "2                                16                         673360   \n",
       "3                                13                            988   \n",
       "4                                16                         497755   \n",
       "\n",
       "   Food service estimate (kg/capita/year)  \\\n",
       "0                                      28   \n",
       "1                                      28   \n",
       "2                                      28   \n",
       "3                                      26   \n",
       "4                                      28   \n",
       "\n",
       "   Food service estimate (tonnes/year) Confidence in estimate  M49 code  \\\n",
       "0                              1051783    Very Low Confidence         4   \n",
       "1                                79651    Very Low Confidence         8   \n",
       "2                              1190335    Very Low Confidence        12   \n",
       "3                                 1971         Low Confidence        20   \n",
       "4                               879908    Very Low Confidence        24   \n",
       "\n",
       "               Region                                             Source  \n",
       "0       Southern Asia  https://www.unep.org/resources/report/unep-foo...  \n",
       "1     Southern Europe  https://www.unep.org/resources/report/unep-foo...  \n",
       "2     Northern Africa  https://www.unep.org/resources/report/unep-foo...  \n",
       "3     Southern Europe  https://www.unep.org/resources/report/unep-foo...  \n",
       "4  Sub-Saharan Africa  https://www.unep.org/resources/report/unep-foo...  "
      ]
     },
     "execution_count": 5,
     "metadata": {},
     "output_type": "execute_result"
    }
   ],
   "source": [
    "data.head()"
   ]
  },
  {
   "cell_type": "code",
   "execution_count": 6,
   "id": "47b6e250",
   "metadata": {},
   "outputs": [
    {
     "data": {
      "text/html": [
       "<div>\n",
       "<style scoped>\n",
       "    .dataframe tbody tr th:only-of-type {\n",
       "        vertical-align: middle;\n",
       "    }\n",
       "\n",
       "    .dataframe tbody tr th {\n",
       "        vertical-align: top;\n",
       "    }\n",
       "\n",
       "    .dataframe thead th {\n",
       "        text-align: right;\n",
       "    }\n",
       "</style>\n",
       "<table border=\"1\" class=\"dataframe\">\n",
       "  <thead>\n",
       "    <tr style=\"text-align: right;\">\n",
       "      <th></th>\n",
       "      <th>Country</th>\n",
       "      <th>combined figures (kg/capita/year)</th>\n",
       "      <th>Household estimate (kg/capita/year)</th>\n",
       "      <th>Household estimate (tonnes/year)</th>\n",
       "      <th>Retail estimate (kg/capita/year)</th>\n",
       "      <th>Retail estimate (tonnes/year)</th>\n",
       "      <th>Food service estimate (kg/capita/year)</th>\n",
       "      <th>Food service estimate (tonnes/year)</th>\n",
       "      <th>Confidence in estimate</th>\n",
       "      <th>M49 code</th>\n",
       "      <th>Region</th>\n",
       "      <th>Source</th>\n",
       "    </tr>\n",
       "  </thead>\n",
       "  <tbody>\n",
       "    <tr>\n",
       "      <th>209</th>\n",
       "      <td>Venezuela (Boliv. Rep. of)</td>\n",
       "      <td>116</td>\n",
       "      <td>72</td>\n",
       "      <td>2065461</td>\n",
       "      <td>16</td>\n",
       "      <td>445994</td>\n",
       "      <td>28</td>\n",
       "      <td>788407</td>\n",
       "      <td>Very Low Confidence</td>\n",
       "      <td>862</td>\n",
       "      <td>Latin America and the Caribbean</td>\n",
       "      <td>https://www.unep.org/resources/report/unep-foo...</td>\n",
       "    </tr>\n",
       "    <tr>\n",
       "      <th>210</th>\n",
       "      <td>Viet Nam</td>\n",
       "      <td>120</td>\n",
       "      <td>76</td>\n",
       "      <td>7346717</td>\n",
       "      <td>16</td>\n",
       "      <td>1508689</td>\n",
       "      <td>28</td>\n",
       "      <td>2666991</td>\n",
       "      <td>Very Low Confidence</td>\n",
       "      <td>704</td>\n",
       "      <td>South-eastern Asia</td>\n",
       "      <td>https://www.unep.org/resources/report/unep-foo...</td>\n",
       "    </tr>\n",
       "    <tr>\n",
       "      <th>211</th>\n",
       "      <td>Yemen</td>\n",
       "      <td>148</td>\n",
       "      <td>104</td>\n",
       "      <td>3026946</td>\n",
       "      <td>16</td>\n",
       "      <td>456099</td>\n",
       "      <td>28</td>\n",
       "      <td>806270</td>\n",
       "      <td>Very Low Confidence</td>\n",
       "      <td>887</td>\n",
       "      <td>Western Asia</td>\n",
       "      <td>https://www.unep.org/resources/report/unep-foo...</td>\n",
       "    </tr>\n",
       "    <tr>\n",
       "      <th>212</th>\n",
       "      <td>Zambia</td>\n",
       "      <td>122</td>\n",
       "      <td>78</td>\n",
       "      <td>1391729</td>\n",
       "      <td>16</td>\n",
       "      <td>279350</td>\n",
       "      <td>28</td>\n",
       "      <td>493822</td>\n",
       "      <td>Very Low Confidence</td>\n",
       "      <td>894</td>\n",
       "      <td>Sub-Saharan Africa</td>\n",
       "      <td>https://www.unep.org/resources/report/unep-foo...</td>\n",
       "    </tr>\n",
       "    <tr>\n",
       "      <th>213</th>\n",
       "      <td>Zimbabwe</td>\n",
       "      <td>144</td>\n",
       "      <td>100</td>\n",
       "      <td>1458564</td>\n",
       "      <td>16</td>\n",
       "      <td>229059</td>\n",
       "      <td>28</td>\n",
       "      <td>404920</td>\n",
       "      <td>Very Low Confidence</td>\n",
       "      <td>716</td>\n",
       "      <td>Sub-Saharan Africa</td>\n",
       "      <td>https://www.unep.org/resources/report/unep-foo...</td>\n",
       "    </tr>\n",
       "  </tbody>\n",
       "</table>\n",
       "</div>"
      ],
      "text/plain": [
       "                        Country  combined figures (kg/capita/year)  \\\n",
       "209  Venezuela (Boliv. Rep. of)                                116   \n",
       "210                    Viet Nam                                120   \n",
       "211                       Yemen                                148   \n",
       "212                      Zambia                                122   \n",
       "213                    Zimbabwe                                144   \n",
       "\n",
       "     Household estimate (kg/capita/year)  Household estimate (tonnes/year)  \\\n",
       "209                                   72                           2065461   \n",
       "210                                   76                           7346717   \n",
       "211                                  104                           3026946   \n",
       "212                                   78                           1391729   \n",
       "213                                  100                           1458564   \n",
       "\n",
       "     Retail estimate (kg/capita/year)  Retail estimate (tonnes/year)  \\\n",
       "209                                16                         445994   \n",
       "210                                16                        1508689   \n",
       "211                                16                         456099   \n",
       "212                                16                         279350   \n",
       "213                                16                         229059   \n",
       "\n",
       "     Food service estimate (kg/capita/year)  \\\n",
       "209                                      28   \n",
       "210                                      28   \n",
       "211                                      28   \n",
       "212                                      28   \n",
       "213                                      28   \n",
       "\n",
       "     Food service estimate (tonnes/year) Confidence in estimate  M49 code  \\\n",
       "209                               788407    Very Low Confidence       862   \n",
       "210                              2666991    Very Low Confidence       704   \n",
       "211                               806270    Very Low Confidence       887   \n",
       "212                               493822    Very Low Confidence       894   \n",
       "213                               404920    Very Low Confidence       716   \n",
       "\n",
       "                              Region  \\\n",
       "209  Latin America and the Caribbean   \n",
       "210               South-eastern Asia   \n",
       "211                     Western Asia   \n",
       "212               Sub-Saharan Africa   \n",
       "213               Sub-Saharan Africa   \n",
       "\n",
       "                                                Source  \n",
       "209  https://www.unep.org/resources/report/unep-foo...  \n",
       "210  https://www.unep.org/resources/report/unep-foo...  \n",
       "211  https://www.unep.org/resources/report/unep-foo...  \n",
       "212  https://www.unep.org/resources/report/unep-foo...  \n",
       "213  https://www.unep.org/resources/report/unep-foo...  "
      ]
     },
     "execution_count": 6,
     "metadata": {},
     "output_type": "execute_result"
    }
   ],
   "source": [
    "data.tail()"
   ]
  },
  {
   "cell_type": "code",
   "execution_count": 8,
   "id": "031ee2fb",
   "metadata": {},
   "outputs": [
    {
     "data": {
      "text/plain": [
       "(214, 12)"
      ]
     },
     "execution_count": 8,
     "metadata": {},
     "output_type": "execute_result"
    }
   ],
   "source": [
    "data.shape"
   ]
  },
  {
   "cell_type": "markdown",
   "id": "daad1928",
   "metadata": {},
   "source": [
    "Dataset consists of 214 Countries record and 12 features"
   ]
  },
  {
   "cell_type": "code",
   "execution_count": 28,
   "id": "1c9b316e",
   "metadata": {},
   "outputs": [
    {
     "data": {
      "text/plain": [
       "Country                                   0\n",
       "combined figures (kg/capita/year)         0\n",
       "Household estimate (kg/capita/year)       0\n",
       "Household estimate (tonnes/year)          0\n",
       "Retail estimate (kg/capita/year)          0\n",
       "Retail estimate (tonnes/year)             0\n",
       "Food service estimate (kg/capita/year)    0\n",
       "Food service estimate (tonnes/year)       0\n",
       "Confidence in estimate                    0\n",
       "M49 code                                  0\n",
       "Region                                    0\n",
       "Source                                    0\n",
       "dtype: int64"
      ]
     },
     "execution_count": 28,
     "metadata": {},
     "output_type": "execute_result"
    }
   ],
   "source": [
    "data.isna().sum()"
   ]
  },
  {
   "cell_type": "markdown",
   "id": "4d59118c",
   "metadata": {},
   "source": [
    "* No missing values in the Dataset"
   ]
  },
  {
   "cell_type": "code",
   "execution_count": 29,
   "id": "c0874df3",
   "metadata": {},
   "outputs": [
    {
     "data": {
      "text/plain": [
       "0"
      ]
     },
     "execution_count": 29,
     "metadata": {},
     "output_type": "execute_result"
    }
   ],
   "source": [
    "data.duplicated().sum()"
   ]
  },
  {
   "cell_type": "markdown",
   "id": "51cf8c70",
   "metadata": {},
   "source": [
    "* There is no duplicates in the Dataset"
   ]
  },
  {
   "cell_type": "code",
   "execution_count": 31,
   "id": "d2585f97",
   "metadata": {},
   "outputs": [
    {
     "data": {
      "text/plain": [
       "Index(['Country', 'combined figures (kg/capita/year)',\n",
       "       'Household estimate (kg/capita/year)',\n",
       "       'Household estimate (tonnes/year)', 'Retail estimate (kg/capita/year)',\n",
       "       'Retail estimate (tonnes/year)',\n",
       "       'Food service estimate (kg/capita/year)',\n",
       "       'Food service estimate (tonnes/year)', 'Confidence in estimate',\n",
       "       'M49 code', 'Region', 'Source'],\n",
       "      dtype='object')"
      ]
     },
     "execution_count": 31,
     "metadata": {},
     "output_type": "execute_result"
    }
   ],
   "source": [
    "data.columns"
   ]
  },
  {
   "cell_type": "code",
   "execution_count": 232,
   "id": "7ca27336",
   "metadata": {},
   "outputs": [],
   "source": [
    "data.drop(['M49 code','Source'],axis=1,inplace=True)"
   ]
  },
  {
   "cell_type": "markdown",
   "id": "dfc62f7a",
   "metadata": {},
   "source": [
    "* dropped unwanted columns"
   ]
  },
  {
   "cell_type": "markdown",
   "id": "94c249ec",
   "metadata": {},
   "source": [
    "#### => Renaming Columns"
   ]
  },
  {
   "cell_type": "markdown",
   "id": "d6379aa3",
   "metadata": {},
   "source": [
    "1.combined figures(CF),\n",
    "2.Household estimate(HE),\n",
    "3.Retail estimate(RE),\n",
    "4.Food service estimate(FSE),\n",
    "5.Confidence IN estimate(CE),"
   ]
  },
  {
   "cell_type": "code",
   "execution_count": 233,
   "id": "95c1844e",
   "metadata": {},
   "outputs": [],
   "source": [
    "data = data.rename ({'combined figures (kg/capita/year)': 'CF(kg/capita/year)', 'Household estimate (kg/capita/year)': 'HE(kg/capita/year)'\n",
    "                    , 'Household estimate (tonnes/year)': 'HE(tonnes/year)', 'Retail estimate (kg/capita/year)': 'RE(kg/capita/year)',\n",
    "                    'Retail estimate (tonnes/year)': 'RE(tonnes/year)', 'Food service estimate (kg/capita/year)': 'FSE(kg/capita/year)',\n",
    "                    'Food service estimate (tonnes/year)': 'FSE(tonnes/year)', 'Confidence in estimate': 'CE'}, axis = 1)"
   ]
  },
  {
   "cell_type": "code",
   "execution_count": 160,
   "id": "1e5d83ac",
   "metadata": {},
   "outputs": [
    {
     "name": "stdout",
     "output_type": "stream",
     "text": [
      "<class 'pandas.core.frame.DataFrame'>\n",
      "RangeIndex: 214 entries, 0 to 213\n",
      "Data columns (total 10 columns):\n",
      " #   Column               Non-Null Count  Dtype \n",
      "---  ------               --------------  ----- \n",
      " 0   Country              214 non-null    object\n",
      " 1   CF(kg/capita/year)   214 non-null    int64 \n",
      " 2   HE(kg/capita/year)   214 non-null    int64 \n",
      " 3   HE(tonnes/year)      214 non-null    int64 \n",
      " 4   RE(kg/capita/year)   214 non-null    int64 \n",
      " 5   RE(tonnes/year)      214 non-null    int64 \n",
      " 6   FSE(kg/capita/year)  214 non-null    int64 \n",
      " 7   FSE(tonnes/year)     214 non-null    int64 \n",
      " 8   CE                   214 non-null    object\n",
      " 9   Region               214 non-null    object\n",
      "dtypes: int64(7), object(3)\n",
      "memory usage: 16.8+ KB\n"
     ]
    }
   ],
   "source": [
    "data.info()"
   ]
  },
  {
   "cell_type": "code",
   "execution_count": 54,
   "id": "2c107073",
   "metadata": {},
   "outputs": [
    {
     "data": {
      "text/html": [
       "<div>\n",
       "<style scoped>\n",
       "    .dataframe tbody tr th:only-of-type {\n",
       "        vertical-align: middle;\n",
       "    }\n",
       "\n",
       "    .dataframe tbody tr th {\n",
       "        vertical-align: top;\n",
       "    }\n",
       "\n",
       "    .dataframe thead th {\n",
       "        text-align: right;\n",
       "    }\n",
       "</style>\n",
       "<table border=\"1\" class=\"dataframe\">\n",
       "  <thead>\n",
       "    <tr style=\"text-align: right;\">\n",
       "      <th></th>\n",
       "      <th>count</th>\n",
       "      <th>mean</th>\n",
       "      <th>std</th>\n",
       "      <th>min</th>\n",
       "      <th>25%</th>\n",
       "      <th>50%</th>\n",
       "      <th>75%</th>\n",
       "      <th>max</th>\n",
       "    </tr>\n",
       "  </thead>\n",
       "  <tbody>\n",
       "    <tr>\n",
       "      <th>CF(kg/capita/year)</th>\n",
       "      <td>214.0</td>\n",
       "      <td>1.267944e+02</td>\n",
       "      <td>2.215788e+01</td>\n",
       "      <td>61.0</td>\n",
       "      <td>115.00</td>\n",
       "      <td>123.0</td>\n",
       "      <td>137.75</td>\n",
       "      <td>260.0</td>\n",
       "    </tr>\n",
       "    <tr>\n",
       "      <th>HE(kg/capita/year)</th>\n",
       "      <td>214.0</td>\n",
       "      <td>8.429439e+01</td>\n",
       "      <td>1.831371e+01</td>\n",
       "      <td>33.0</td>\n",
       "      <td>74.00</td>\n",
       "      <td>80.0</td>\n",
       "      <td>95.00</td>\n",
       "      <td>189.0</td>\n",
       "    </tr>\n",
       "    <tr>\n",
       "      <th>HE(tonnes/year)</th>\n",
       "      <td>214.0</td>\n",
       "      <td>2.658896e+06</td>\n",
       "      <td>8.596906e+06</td>\n",
       "      <td>850.0</td>\n",
       "      <td>68315.50</td>\n",
       "      <td>520508.0</td>\n",
       "      <td>2111314.50</td>\n",
       "      <td>91646213.0</td>\n",
       "    </tr>\n",
       "    <tr>\n",
       "      <th>RE(kg/capita/year)</th>\n",
       "      <td>214.0</td>\n",
       "      <td>1.511682e+01</td>\n",
       "      <td>5.767840e+00</td>\n",
       "      <td>3.0</td>\n",
       "      <td>13.00</td>\n",
       "      <td>16.0</td>\n",
       "      <td>16.00</td>\n",
       "      <td>79.0</td>\n",
       "    </tr>\n",
       "    <tr>\n",
       "      <th>RE(tonnes/year)</th>\n",
       "      <td>214.0</td>\n",
       "      <td>5.520454e+05</td>\n",
       "      <td>2.195578e+06</td>\n",
       "      <td>138.0</td>\n",
       "      <td>12509.25</td>\n",
       "      <td>100650.0</td>\n",
       "      <td>356815.75</td>\n",
       "      <td>22424705.0</td>\n",
       "    </tr>\n",
       "    <tr>\n",
       "      <th>FSE(kg/capita/year)</th>\n",
       "      <td>214.0</td>\n",
       "      <td>2.738318e+01</td>\n",
       "      <td>6.508420e+00</td>\n",
       "      <td>3.0</td>\n",
       "      <td>26.00</td>\n",
       "      <td>28.0</td>\n",
       "      <td>28.00</td>\n",
       "      <td>90.0</td>\n",
       "    </tr>\n",
       "    <tr>\n",
       "      <th>FSE(tonnes/year)</th>\n",
       "      <td>214.0</td>\n",
       "      <td>1.138859e+06</td>\n",
       "      <td>5.380459e+06</td>\n",
       "      <td>276.0</td>\n",
       "      <td>22391.25</td>\n",
       "      <td>188466.0</td>\n",
       "      <td>630761.75</td>\n",
       "      <td>65377741.0</td>\n",
       "    </tr>\n",
       "  </tbody>\n",
       "</table>\n",
       "</div>"
      ],
      "text/plain": [
       "                     count          mean           std    min       25%  \\\n",
       "CF(kg/capita/year)   214.0  1.267944e+02  2.215788e+01   61.0    115.00   \n",
       "HE(kg/capita/year)   214.0  8.429439e+01  1.831371e+01   33.0     74.00   \n",
       "HE(tonnes/year)      214.0  2.658896e+06  8.596906e+06  850.0  68315.50   \n",
       "RE(kg/capita/year)   214.0  1.511682e+01  5.767840e+00    3.0     13.00   \n",
       "RE(tonnes/year)      214.0  5.520454e+05  2.195578e+06  138.0  12509.25   \n",
       "FSE(kg/capita/year)  214.0  2.738318e+01  6.508420e+00    3.0     26.00   \n",
       "FSE(tonnes/year)     214.0  1.138859e+06  5.380459e+06  276.0  22391.25   \n",
       "\n",
       "                          50%         75%         max  \n",
       "CF(kg/capita/year)      123.0      137.75       260.0  \n",
       "HE(kg/capita/year)       80.0       95.00       189.0  \n",
       "HE(tonnes/year)      520508.0  2111314.50  91646213.0  \n",
       "RE(kg/capita/year)       16.0       16.00        79.0  \n",
       "RE(tonnes/year)      100650.0   356815.75  22424705.0  \n",
       "FSE(kg/capita/year)      28.0       28.00        90.0  \n",
       "FSE(tonnes/year)     188466.0   630761.75  65377741.0  "
      ]
     },
     "execution_count": 54,
     "metadata": {},
     "output_type": "execute_result"
    }
   ],
   "source": [
    "data.describe().T    # data.describe().transpose()"
   ]
  },
  {
   "cell_type": "code",
   "execution_count": 62,
   "id": "cd4404f2",
   "metadata": {},
   "outputs": [
    {
     "data": {
      "text/plain": [
       "CE\n",
       "Very Low Confidence    130\n",
       "Low Confidence          61\n",
       "Medium Confidence       13\n",
       "High Confidence         10\n",
       "Name: count, dtype: int64"
      ]
     },
     "execution_count": 62,
     "metadata": {},
     "output_type": "execute_result"
    }
   ],
   "source": [
    "data.CE.value_counts()    # data['CE'].value_counts()"
   ]
  },
  {
   "cell_type": "markdown",
   "id": "6ccdd980",
   "metadata": {},
   "source": [
    "#### Out of 214 Countries\n",
    "* 130 countries are Very Low in Confidence\n",
    "* 10 countries are High in Confidence"
   ]
  },
  {
   "cell_type": "markdown",
   "id": "24cc2821",
   "metadata": {},
   "source": [
    "##### Countries with High Confidence estimate"
   ]
  },
  {
   "cell_type": "code",
   "execution_count": 65,
   "id": "fa3b42d0",
   "metadata": {},
   "outputs": [],
   "source": [
    "data_high_CE=data[data['CE']=='High Confidence']"
   ]
  },
  {
   "cell_type": "code",
   "execution_count": 66,
   "id": "42c5644b",
   "metadata": {},
   "outputs": [
    {
     "data": {
      "text/html": [
       "<div>\n",
       "<style scoped>\n",
       "    .dataframe tbody tr th:only-of-type {\n",
       "        vertical-align: middle;\n",
       "    }\n",
       "\n",
       "    .dataframe tbody tr th {\n",
       "        vertical-align: top;\n",
       "    }\n",
       "\n",
       "    .dataframe thead th {\n",
       "        text-align: right;\n",
       "    }\n",
       "</style>\n",
       "<table border=\"1\" class=\"dataframe\">\n",
       "  <thead>\n",
       "    <tr style=\"text-align: right;\">\n",
       "      <th></th>\n",
       "      <th>Country</th>\n",
       "      <th>CF(kg/capita/year)</th>\n",
       "      <th>HE(kg/capita/year)</th>\n",
       "      <th>HE(tonnes/year)</th>\n",
       "      <th>RE(kg/capita/year)</th>\n",
       "      <th>RE(tonnes/year)</th>\n",
       "      <th>FSE(kg/capita/year)</th>\n",
       "      <th>FSE(tonnes/year)</th>\n",
       "      <th>CE</th>\n",
       "      <th>Region</th>\n",
       "    </tr>\n",
       "  </thead>\n",
       "  <tbody>\n",
       "    <tr>\n",
       "      <th>9</th>\n",
       "      <td>Australia</td>\n",
       "      <td>133</td>\n",
       "      <td>102</td>\n",
       "      <td>2563110</td>\n",
       "      <td>9</td>\n",
       "      <td>238248</td>\n",
       "      <td>22</td>\n",
       "      <td>546340</td>\n",
       "      <td>High Confidence</td>\n",
       "      <td>Australia and New Zealand</td>\n",
       "    </tr>\n",
       "    <tr>\n",
       "      <th>10</th>\n",
       "      <td>Austria</td>\n",
       "      <td>76</td>\n",
       "      <td>39</td>\n",
       "      <td>349249</td>\n",
       "      <td>9</td>\n",
       "      <td>77289</td>\n",
       "      <td>28</td>\n",
       "      <td>254191</td>\n",
       "      <td>High Confidence</td>\n",
       "      <td>Western Europe</td>\n",
       "    </tr>\n",
       "    <tr>\n",
       "      <th>54</th>\n",
       "      <td>Denmark</td>\n",
       "      <td>132</td>\n",
       "      <td>81</td>\n",
       "      <td>469449</td>\n",
       "      <td>30</td>\n",
       "      <td>172003</td>\n",
       "      <td>21</td>\n",
       "      <td>119134</td>\n",
       "      <td>High Confidence</td>\n",
       "      <td>Northern Europe</td>\n",
       "    </tr>\n",
       "    <tr>\n",
       "      <th>74</th>\n",
       "      <td>Germany</td>\n",
       "      <td>102</td>\n",
       "      <td>75</td>\n",
       "      <td>6263775</td>\n",
       "      <td>6</td>\n",
       "      <td>498244</td>\n",
       "      <td>21</td>\n",
       "      <td>1718433</td>\n",
       "      <td>High Confidence</td>\n",
       "      <td>Western Europe</td>\n",
       "    </tr>\n",
       "    <tr>\n",
       "      <th>96</th>\n",
       "      <td>Italy</td>\n",
       "      <td>97</td>\n",
       "      <td>67</td>\n",
       "      <td>4059806</td>\n",
       "      <td>4</td>\n",
       "      <td>219552</td>\n",
       "      <td>26</td>\n",
       "      <td>1548291</td>\n",
       "      <td>High Confidence</td>\n",
       "      <td>Southern Europe</td>\n",
       "    </tr>\n",
       "    <tr>\n",
       "      <th>136</th>\n",
       "      <td>New Zealand</td>\n",
       "      <td>90</td>\n",
       "      <td>61</td>\n",
       "      <td>291769</td>\n",
       "      <td>3</td>\n",
       "      <td>14923</td>\n",
       "      <td>26</td>\n",
       "      <td>122306</td>\n",
       "      <td>High Confidence</td>\n",
       "      <td>Australia and New Zealand</td>\n",
       "    </tr>\n",
       "    <tr>\n",
       "      <th>167</th>\n",
       "      <td>Saudi Arabia</td>\n",
       "      <td>151</td>\n",
       "      <td>105</td>\n",
       "      <td>3594080</td>\n",
       "      <td>20</td>\n",
       "      <td>673502</td>\n",
       "      <td>26</td>\n",
       "      <td>876260</td>\n",
       "      <td>High Confidence</td>\n",
       "      <td>Western Asia</td>\n",
       "    </tr>\n",
       "    <tr>\n",
       "      <th>185</th>\n",
       "      <td>Sweden</td>\n",
       "      <td>112</td>\n",
       "      <td>81</td>\n",
       "      <td>812948</td>\n",
       "      <td>10</td>\n",
       "      <td>100364</td>\n",
       "      <td>21</td>\n",
       "      <td>205746</td>\n",
       "      <td>High Confidence</td>\n",
       "      <td>Northern Europe</td>\n",
       "    </tr>\n",
       "    <tr>\n",
       "      <th>202</th>\n",
       "      <td>United Kingdom</td>\n",
       "      <td>98</td>\n",
       "      <td>77</td>\n",
       "      <td>5199825</td>\n",
       "      <td>4</td>\n",
       "      <td>283627</td>\n",
       "      <td>17</td>\n",
       "      <td>1114248</td>\n",
       "      <td>High Confidence</td>\n",
       "      <td>Northern Europe</td>\n",
       "    </tr>\n",
       "    <tr>\n",
       "      <th>204</th>\n",
       "      <td>United States of America</td>\n",
       "      <td>139</td>\n",
       "      <td>59</td>\n",
       "      <td>19359951</td>\n",
       "      <td>16</td>\n",
       "      <td>5151313</td>\n",
       "      <td>64</td>\n",
       "      <td>20934827</td>\n",
       "      <td>High Confidence</td>\n",
       "      <td>Northern America</td>\n",
       "    </tr>\n",
       "  </tbody>\n",
       "</table>\n",
       "</div>"
      ],
      "text/plain": [
       "                      Country  CF(kg/capita/year)  HE(kg/capita/year)  \\\n",
       "9                   Australia                 133                 102   \n",
       "10                    Austria                  76                  39   \n",
       "54                    Denmark                 132                  81   \n",
       "74                    Germany                 102                  75   \n",
       "96                      Italy                  97                  67   \n",
       "136               New Zealand                  90                  61   \n",
       "167              Saudi Arabia                 151                 105   \n",
       "185                    Sweden                 112                  81   \n",
       "202            United Kingdom                  98                  77   \n",
       "204  United States of America                 139                  59   \n",
       "\n",
       "     HE(tonnes/year)  RE(kg/capita/year)  RE(tonnes/year)  \\\n",
       "9            2563110                   9           238248   \n",
       "10            349249                   9            77289   \n",
       "54            469449                  30           172003   \n",
       "74           6263775                   6           498244   \n",
       "96           4059806                   4           219552   \n",
       "136           291769                   3            14923   \n",
       "167          3594080                  20           673502   \n",
       "185           812948                  10           100364   \n",
       "202          5199825                   4           283627   \n",
       "204         19359951                  16          5151313   \n",
       "\n",
       "     FSE(kg/capita/year)  FSE(tonnes/year)               CE  \\\n",
       "9                     22            546340  High Confidence   \n",
       "10                    28            254191  High Confidence   \n",
       "54                    21            119134  High Confidence   \n",
       "74                    21           1718433  High Confidence   \n",
       "96                    26           1548291  High Confidence   \n",
       "136                   26            122306  High Confidence   \n",
       "167                   26            876260  High Confidence   \n",
       "185                   21            205746  High Confidence   \n",
       "202                   17           1114248  High Confidence   \n",
       "204                   64          20934827  High Confidence   \n",
       "\n",
       "                        Region  \n",
       "9    Australia and New Zealand  \n",
       "10              Western Europe  \n",
       "54             Northern Europe  \n",
       "74              Western Europe  \n",
       "96             Southern Europe  \n",
       "136  Australia and New Zealand  \n",
       "167               Western Asia  \n",
       "185            Northern Europe  \n",
       "202            Northern Europe  \n",
       "204           Northern America  "
      ]
     },
     "execution_count": 66,
     "metadata": {},
     "output_type": "execute_result"
    }
   ],
   "source": [
    "data_high_CE"
   ]
  },
  {
   "cell_type": "markdown",
   "id": "c3bb8238",
   "metadata": {},
   "source": [
    "\n",
    "\n",
    "\n",
    "\n",
    "#### Countries with very low confidence estimate"
   ]
  },
  {
   "cell_type": "code",
   "execution_count": 70,
   "id": "3d451973",
   "metadata": {},
   "outputs": [],
   "source": [
    "data_verylow_CE=data[data['CE']=='Very Low Confidence']"
   ]
  },
  {
   "cell_type": "code",
   "execution_count": 181,
   "id": "230b61e7",
   "metadata": {},
   "outputs": [
    {
     "data": {
      "text/html": [
       "<div>\n",
       "<style scoped>\n",
       "    .dataframe tbody tr th:only-of-type {\n",
       "        vertical-align: middle;\n",
       "    }\n",
       "\n",
       "    .dataframe tbody tr th {\n",
       "        vertical-align: top;\n",
       "    }\n",
       "\n",
       "    .dataframe thead th {\n",
       "        text-align: right;\n",
       "    }\n",
       "</style>\n",
       "<table border=\"1\" class=\"dataframe\">\n",
       "  <thead>\n",
       "    <tr style=\"text-align: right;\">\n",
       "      <th></th>\n",
       "      <th>Country</th>\n",
       "      <th>CF(kg/capita/year)</th>\n",
       "      <th>HE(kg/capita/year)</th>\n",
       "      <th>HE(tonnes/year)</th>\n",
       "      <th>RE(kg/capita/year)</th>\n",
       "      <th>RE(tonnes/year)</th>\n",
       "      <th>FSE(kg/capita/year)</th>\n",
       "      <th>FSE(tonnes/year)</th>\n",
       "      <th>CE</th>\n",
       "      <th>Region</th>\n",
       "    </tr>\n",
       "  </thead>\n",
       "  <tbody>\n",
       "    <tr>\n",
       "      <th>0</th>\n",
       "      <td>Afghanistan</td>\n",
       "      <td>126</td>\n",
       "      <td>82</td>\n",
       "      <td>3109153</td>\n",
       "      <td>16</td>\n",
       "      <td>594982</td>\n",
       "      <td>28</td>\n",
       "      <td>1051783</td>\n",
       "      <td>Very Low Confidence</td>\n",
       "      <td>Southern Asia</td>\n",
       "    </tr>\n",
       "    <tr>\n",
       "      <th>1</th>\n",
       "      <td>Albania</td>\n",
       "      <td>127</td>\n",
       "      <td>83</td>\n",
       "      <td>238492</td>\n",
       "      <td>16</td>\n",
       "      <td>45058</td>\n",
       "      <td>28</td>\n",
       "      <td>79651</td>\n",
       "      <td>Very Low Confidence</td>\n",
       "      <td>Southern Europe</td>\n",
       "    </tr>\n",
       "    <tr>\n",
       "      <th>2</th>\n",
       "      <td>Algeria</td>\n",
       "      <td>135</td>\n",
       "      <td>91</td>\n",
       "      <td>3918529</td>\n",
       "      <td>16</td>\n",
       "      <td>673360</td>\n",
       "      <td>28</td>\n",
       "      <td>1190335</td>\n",
       "      <td>Very Low Confidence</td>\n",
       "      <td>Northern Africa</td>\n",
       "    </tr>\n",
       "    <tr>\n",
       "      <th>3</th>\n",
       "      <td>Andorra</td>\n",
       "      <td>123</td>\n",
       "      <td>84</td>\n",
       "      <td>6497</td>\n",
       "      <td>13</td>\n",
       "      <td>988</td>\n",
       "      <td>26</td>\n",
       "      <td>1971</td>\n",
       "      <td>Very Low Confidence</td>\n",
       "      <td>Southern Europe</td>\n",
       "    </tr>\n",
       "    <tr>\n",
       "      <th>4</th>\n",
       "      <td>Angola</td>\n",
       "      <td>144</td>\n",
       "      <td>100</td>\n",
       "      <td>3169523</td>\n",
       "      <td>16</td>\n",
       "      <td>497755</td>\n",
       "      <td>28</td>\n",
       "      <td>879908</td>\n",
       "      <td>Very Low Confidence</td>\n",
       "      <td>Sub-Saharan Africa</td>\n",
       "    </tr>\n",
       "    <tr>\n",
       "      <th>...</th>\n",
       "      <td>...</td>\n",
       "      <td>...</td>\n",
       "      <td>...</td>\n",
       "      <td>...</td>\n",
       "      <td>...</td>\n",
       "      <td>...</td>\n",
       "      <td>...</td>\n",
       "      <td>...</td>\n",
       "      <td>...</td>\n",
       "      <td>...</td>\n",
       "    </tr>\n",
       "    <tr>\n",
       "      <th>209</th>\n",
       "      <td>Venezuela (Boliv. Rep. of)</td>\n",
       "      <td>116</td>\n",
       "      <td>72</td>\n",
       "      <td>2065461</td>\n",
       "      <td>16</td>\n",
       "      <td>445994</td>\n",
       "      <td>28</td>\n",
       "      <td>788407</td>\n",
       "      <td>Very Low Confidence</td>\n",
       "      <td>Latin America and the Caribbean</td>\n",
       "    </tr>\n",
       "    <tr>\n",
       "      <th>210</th>\n",
       "      <td>Viet Nam</td>\n",
       "      <td>120</td>\n",
       "      <td>76</td>\n",
       "      <td>7346717</td>\n",
       "      <td>16</td>\n",
       "      <td>1508689</td>\n",
       "      <td>28</td>\n",
       "      <td>2666991</td>\n",
       "      <td>Very Low Confidence</td>\n",
       "      <td>South-eastern Asia</td>\n",
       "    </tr>\n",
       "    <tr>\n",
       "      <th>211</th>\n",
       "      <td>Yemen</td>\n",
       "      <td>148</td>\n",
       "      <td>104</td>\n",
       "      <td>3026946</td>\n",
       "      <td>16</td>\n",
       "      <td>456099</td>\n",
       "      <td>28</td>\n",
       "      <td>806270</td>\n",
       "      <td>Very Low Confidence</td>\n",
       "      <td>Western Asia</td>\n",
       "    </tr>\n",
       "    <tr>\n",
       "      <th>212</th>\n",
       "      <td>Zambia</td>\n",
       "      <td>122</td>\n",
       "      <td>78</td>\n",
       "      <td>1391729</td>\n",
       "      <td>16</td>\n",
       "      <td>279350</td>\n",
       "      <td>28</td>\n",
       "      <td>493822</td>\n",
       "      <td>Very Low Confidence</td>\n",
       "      <td>Sub-Saharan Africa</td>\n",
       "    </tr>\n",
       "    <tr>\n",
       "      <th>213</th>\n",
       "      <td>Zimbabwe</td>\n",
       "      <td>144</td>\n",
       "      <td>100</td>\n",
       "      <td>1458564</td>\n",
       "      <td>16</td>\n",
       "      <td>229059</td>\n",
       "      <td>28</td>\n",
       "      <td>404920</td>\n",
       "      <td>Very Low Confidence</td>\n",
       "      <td>Sub-Saharan Africa</td>\n",
       "    </tr>\n",
       "  </tbody>\n",
       "</table>\n",
       "<p>214 rows × 10 columns</p>\n",
       "</div>"
      ],
      "text/plain": [
       "                        Country  CF(kg/capita/year)  HE(kg/capita/year)  \\\n",
       "0                   Afghanistan                 126                  82   \n",
       "1                       Albania                 127                  83   \n",
       "2                       Algeria                 135                  91   \n",
       "3                       Andorra                 123                  84   \n",
       "4                        Angola                 144                 100   \n",
       "..                          ...                 ...                 ...   \n",
       "209  Venezuela (Boliv. Rep. of)                 116                  72   \n",
       "210                    Viet Nam                 120                  76   \n",
       "211                       Yemen                 148                 104   \n",
       "212                      Zambia                 122                  78   \n",
       "213                    Zimbabwe                 144                 100   \n",
       "\n",
       "     HE(tonnes/year)  RE(kg/capita/year)  RE(tonnes/year)  \\\n",
       "0            3109153                  16           594982   \n",
       "1             238492                  16            45058   \n",
       "2            3918529                  16           673360   \n",
       "3               6497                  13              988   \n",
       "4            3169523                  16           497755   \n",
       "..               ...                 ...              ...   \n",
       "209          2065461                  16           445994   \n",
       "210          7346717                  16          1508689   \n",
       "211          3026946                  16           456099   \n",
       "212          1391729                  16           279350   \n",
       "213          1458564                  16           229059   \n",
       "\n",
       "     FSE(kg/capita/year)  FSE(tonnes/year)                   CE  \\\n",
       "0                     28           1051783  Very Low Confidence   \n",
       "1                     28             79651  Very Low Confidence   \n",
       "2                     28           1190335  Very Low Confidence   \n",
       "3                     26              1971  Very Low Confidence   \n",
       "4                     28            879908  Very Low Confidence   \n",
       "..                   ...               ...                  ...   \n",
       "209                   28            788407  Very Low Confidence   \n",
       "210                   28           2666991  Very Low Confidence   \n",
       "211                   28            806270  Very Low Confidence   \n",
       "212                   28            493822  Very Low Confidence   \n",
       "213                   28            404920  Very Low Confidence   \n",
       "\n",
       "                              Region  \n",
       "0                      Southern Asia  \n",
       "1                    Southern Europe  \n",
       "2                    Northern Africa  \n",
       "3                    Southern Europe  \n",
       "4                 Sub-Saharan Africa  \n",
       "..                               ...  \n",
       "209  Latin America and the Caribbean  \n",
       "210               South-eastern Asia  \n",
       "211                     Western Asia  \n",
       "212               Sub-Saharan Africa  \n",
       "213               Sub-Saharan Africa  \n",
       "\n",
       "[214 rows x 10 columns]"
      ]
     },
     "execution_count": 181,
     "metadata": {},
     "output_type": "execute_result"
    }
   ],
   "source": [
    "data_verylow_CE"
   ]
  },
  {
   "cell_type": "markdown",
   "id": "54ccaa7d",
   "metadata": {},
   "source": [
    "### Region wise analysis"
   ]
  },
  {
   "cell_type": "code",
   "execution_count": 73,
   "id": "372ddee8",
   "metadata": {},
   "outputs": [
    {
     "data": {
      "text/plain": [
       "Region\n",
       "Sub-Saharan Africa                 48\n",
       "Latin America and the Caribbean    42\n",
       "Western Asia                       18\n",
       "Southern Europe                    15\n",
       "Northern Europe                    12\n",
       "South-eastern Asia                 11\n",
       "Eastern Europe                     10\n",
       "Southern Asia                       9\n",
       "Western Europe                      9\n",
       "Eastern Asia                        7\n",
       "Micronesia                          7\n",
       "Northern Africa                     6\n",
       "Melanesia                           5\n",
       "Central Asia                        5\n",
       "Northern America                    4\n",
       "Polynesia                           4\n",
       "Australia and New Zealand           2\n",
       "Name: count, dtype: int64"
      ]
     },
     "execution_count": 73,
     "metadata": {},
     "output_type": "execute_result"
    }
   ],
   "source": [
    "data['Region'].value_counts()"
   ]
  },
  {
   "cell_type": "markdown",
   "id": "5d94f54e",
   "metadata": {},
   "source": [
    "##### Region vs Retail estimate (tonnes/year)"
   ]
  },
  {
   "cell_type": "code",
   "execution_count": 128,
   "id": "b88d3d61",
   "metadata": {},
   "outputs": [],
   "source": [
    "grouped_data=data.groupby('Region')['RE(kg/capita/year)'].mean()             #agg({'mean(kg/capita,year)':mean})"
   ]
  },
  {
   "cell_type": "code",
   "execution_count": 141,
   "id": "13bda2a8",
   "metadata": {},
   "outputs": [
    {
     "data": {
      "text/plain": [
       "Region\n",
       "South-eastern Asia                 21.181818\n",
       "Western Asia                       17.166667\n",
       "Northern Africa                    16.000000\n",
       "Central Asia                       16.000000\n",
       "Southern Asia                      16.000000\n",
       "Sub-Saharan Africa                 15.770833\n",
       "Melanesia                          15.400000\n",
       "Polynesia                          15.250000\n",
       "Latin America and the Caribbean    14.785714\n",
       "Eastern Europe                     14.300000\n",
       "Micronesia                         14.285714\n",
       "Northern America                   13.750000\n",
       "Eastern Asia                       13.714286\n",
       "Northern Europe                    12.833333\n",
       "Southern Europe                    12.600000\n",
       "Western Europe                     12.000000\n",
       "Australia and New Zealand           6.000000\n",
       "Name: RE(kg/capita/year), dtype: float64"
      ]
     },
     "execution_count": 141,
     "metadata": {},
     "output_type": "execute_result"
    }
   ],
   "source": [
    "grouped_data.sort_values(ascending=False)"
   ]
  },
  {
   "cell_type": "markdown",
   "id": "4624cb01",
   "metadata": {},
   "source": [
    "#### Analysis\n",
    "* South-eastern Asia have highest Retail Estimate (kg/capita/year)\n",
    "* Australia and New Zealand have lowest Retail Estimate (kg/capita/year)"
   ]
  },
  {
   "cell_type": "markdown",
   "id": "e928e046",
   "metadata": {},
   "source": [
    "##### Region vs Food service estimate (kg/capita/year)"
   ]
  },
  {
   "cell_type": "code",
   "execution_count": 142,
   "id": "33c55383",
   "metadata": {},
   "outputs": [
    {
     "data": {
      "text/plain": [
       "Region\n",
       "Australia and New Zealand          24.000000\n",
       "Central Asia                       28.000000\n",
       "Eastern Asia                       27.857143\n",
       "Eastern Europe                     27.000000\n",
       "Latin America and the Caribbean    27.190476\n",
       "Melanesia                          27.600000\n",
       "Micronesia                         26.857143\n",
       "Northern Africa                    28.000000\n",
       "Northern America                   35.500000\n",
       "Northern Europe                    24.166667\n",
       "Polynesia                          27.500000\n",
       "South-eastern Asia                 33.272727\n",
       "Southern Asia                      25.222222\n",
       "Southern Europe                    24.800000\n",
       "Sub-Saharan Africa                 27.979167\n",
       "Western Asia                       27.166667\n",
       "Western Europe                     25.777778\n",
       "Name: FSE(kg/capita/year), dtype: float64"
      ]
     },
     "execution_count": 142,
     "metadata": {},
     "output_type": "execute_result"
    }
   ],
   "source": [
    "data.groupby('Region')['FSE(kg/capita/year)'].mean()"
   ]
  },
  {
   "cell_type": "markdown",
   "id": "ed7bd48b",
   "metadata": {},
   "source": [
    "### Analysis\n",
    "* Northern America have highest Food service estimate (kg/capita/year).\n",
    "* Australia and New Zealand have lowest Food service estimate (kg/capita/year)"
   ]
  },
  {
   "cell_type": "markdown",
   "id": "fcea7719",
   "metadata": {},
   "source": [
    "##### Region vs Household estimate (kg/capita/year)"
   ]
  },
  {
   "cell_type": "code",
   "execution_count": 143,
   "id": "d50aaea9",
   "metadata": {},
   "outputs": [
    {
     "data": {
      "text/plain": [
       "Region\n",
       "Australia and New Zealand           81.500000\n",
       "Central Asia                        86.200000\n",
       "Eastern Asia                        71.428571\n",
       "Eastern Europe                      68.100000\n",
       "Latin America and the Caribbean     73.571429\n",
       "Melanesia                           85.600000\n",
       "Micronesia                          82.000000\n",
       "Northern Africa                     89.500000\n",
       "Northern America                    71.500000\n",
       "Northern Europe                     74.666667\n",
       "Polynesia                           76.750000\n",
       "South-eastern Asia                  83.000000\n",
       "Southern Asia                       71.888889\n",
       "Southern Europe                     85.600000\n",
       "Sub-Saharan Africa                 101.645833\n",
       "Western Asia                       101.055556\n",
       "Western Europe                      67.111111\n",
       "Name: HE(kg/capita/year), dtype: float64"
      ]
     },
     "execution_count": 143,
     "metadata": {},
     "output_type": "execute_result"
    }
   ],
   "source": [
    "data.groupby('Region')['HE(kg/capita/year)'].mean()"
   ]
  },
  {
   "cell_type": "markdown",
   "id": "80211492",
   "metadata": {},
   "source": [
    "#### Analysis\n",
    "* Sub-Saharan Africa & Western Asia have highest Household estimate (kg/capita/year).\n",
    "* Western Europe has lowest Household estimate (kg/capita/year)."
   ]
  },
  {
   "cell_type": "markdown",
   "id": "bc1f9a4b",
   "metadata": {},
   "source": [
    "#### Analysing Region vs Confidence in estimate "
   ]
  },
  {
   "cell_type": "code",
   "execution_count": 243,
   "id": "90e1bf7b",
   "metadata": {},
   "outputs": [
    {
     "data": {
      "text/html": [
       "<div>\n",
       "<style scoped>\n",
       "    .dataframe tbody tr th:only-of-type {\n",
       "        vertical-align: middle;\n",
       "    }\n",
       "\n",
       "    .dataframe tbody tr th {\n",
       "        vertical-align: top;\n",
       "    }\n",
       "\n",
       "    .dataframe thead th {\n",
       "        text-align: right;\n",
       "    }\n",
       "</style>\n",
       "<table border=\"1\" class=\"dataframe\">\n",
       "  <thead>\n",
       "    <tr style=\"text-align: right;\">\n",
       "      <th>CE</th>\n",
       "      <th>High Confidence</th>\n",
       "      <th>Low Confidence</th>\n",
       "      <th>Medium Confidence</th>\n",
       "      <th>Very Low Confidence</th>\n",
       "    </tr>\n",
       "    <tr>\n",
       "      <th>Region</th>\n",
       "      <th></th>\n",
       "      <th></th>\n",
       "      <th></th>\n",
       "      <th></th>\n",
       "    </tr>\n",
       "  </thead>\n",
       "  <tbody>\n",
       "    <tr>\n",
       "      <th>Australia and New Zealand</th>\n",
       "      <td>2</td>\n",
       "      <td>0</td>\n",
       "      <td>0</td>\n",
       "      <td>0</td>\n",
       "    </tr>\n",
       "    <tr>\n",
       "      <th>Central Asia</th>\n",
       "      <td>0</td>\n",
       "      <td>0</td>\n",
       "      <td>0</td>\n",
       "      <td>5</td>\n",
       "    </tr>\n",
       "    <tr>\n",
       "      <th>Eastern Asia</th>\n",
       "      <td>0</td>\n",
       "      <td>3</td>\n",
       "      <td>1</td>\n",
       "      <td>3</td>\n",
       "    </tr>\n",
       "    <tr>\n",
       "      <th>Eastern Europe</th>\n",
       "      <td>0</td>\n",
       "      <td>5</td>\n",
       "      <td>1</td>\n",
       "      <td>4</td>\n",
       "    </tr>\n",
       "    <tr>\n",
       "      <th>Latin America and the Caribbean</th>\n",
       "      <td>0</td>\n",
       "      <td>17</td>\n",
       "      <td>0</td>\n",
       "      <td>25</td>\n",
       "    </tr>\n",
       "    <tr>\n",
       "      <th>Melanesia</th>\n",
       "      <td>0</td>\n",
       "      <td>1</td>\n",
       "      <td>0</td>\n",
       "      <td>4</td>\n",
       "    </tr>\n",
       "    <tr>\n",
       "      <th>Micronesia</th>\n",
       "      <td>0</td>\n",
       "      <td>4</td>\n",
       "      <td>0</td>\n",
       "      <td>3</td>\n",
       "    </tr>\n",
       "    <tr>\n",
       "      <th>Northern Africa</th>\n",
       "      <td>0</td>\n",
       "      <td>0</td>\n",
       "      <td>0</td>\n",
       "      <td>6</td>\n",
       "    </tr>\n",
       "    <tr>\n",
       "      <th>Northern America</th>\n",
       "      <td>1</td>\n",
       "      <td>3</td>\n",
       "      <td>0</td>\n",
       "      <td>0</td>\n",
       "    </tr>\n",
       "    <tr>\n",
       "      <th>Northern Europe</th>\n",
       "      <td>3</td>\n",
       "      <td>7</td>\n",
       "      <td>2</td>\n",
       "      <td>0</td>\n",
       "    </tr>\n",
       "    <tr>\n",
       "      <th>Polynesia</th>\n",
       "      <td>0</td>\n",
       "      <td>1</td>\n",
       "      <td>0</td>\n",
       "      <td>3</td>\n",
       "    </tr>\n",
       "    <tr>\n",
       "      <th>South-eastern Asia</th>\n",
       "      <td>0</td>\n",
       "      <td>2</td>\n",
       "      <td>1</td>\n",
       "      <td>8</td>\n",
       "    </tr>\n",
       "    <tr>\n",
       "      <th>Southern Asia</th>\n",
       "      <td>0</td>\n",
       "      <td>0</td>\n",
       "      <td>0</td>\n",
       "      <td>9</td>\n",
       "    </tr>\n",
       "    <tr>\n",
       "      <th>Southern Europe</th>\n",
       "      <td>1</td>\n",
       "      <td>7</td>\n",
       "      <td>2</td>\n",
       "      <td>5</td>\n",
       "    </tr>\n",
       "    <tr>\n",
       "      <th>Sub-Saharan Africa</th>\n",
       "      <td>0</td>\n",
       "      <td>2</td>\n",
       "      <td>1</td>\n",
       "      <td>45</td>\n",
       "    </tr>\n",
       "    <tr>\n",
       "      <th>Western Asia</th>\n",
       "      <td>1</td>\n",
       "      <td>6</td>\n",
       "      <td>1</td>\n",
       "      <td>10</td>\n",
       "    </tr>\n",
       "    <tr>\n",
       "      <th>Western Europe</th>\n",
       "      <td>2</td>\n",
       "      <td>3</td>\n",
       "      <td>4</td>\n",
       "      <td>0</td>\n",
       "    </tr>\n",
       "  </tbody>\n",
       "</table>\n",
       "</div>"
      ],
      "text/plain": [
       "CE                               High Confidence  Low Confidence  \\\n",
       "Region                                                             \n",
       "Australia and New Zealand                      2               0   \n",
       "Central Asia                                   0               0   \n",
       "Eastern Asia                                   0               3   \n",
       "Eastern Europe                                 0               5   \n",
       "Latin America and the Caribbean                0              17   \n",
       "Melanesia                                      0               1   \n",
       "Micronesia                                     0               4   \n",
       "Northern Africa                                0               0   \n",
       "Northern America                               1               3   \n",
       "Northern Europe                                3               7   \n",
       "Polynesia                                      0               1   \n",
       "South-eastern Asia                             0               2   \n",
       "Southern Asia                                  0               0   \n",
       "Southern Europe                                1               7   \n",
       "Sub-Saharan Africa                             0               2   \n",
       "Western Asia                                   1               6   \n",
       "Western Europe                                 2               3   \n",
       "\n",
       "CE                               Medium Confidence  Very Low Confidence  \n",
       "Region                                                                   \n",
       "Australia and New Zealand                        0                    0  \n",
       "Central Asia                                     0                    5  \n",
       "Eastern Asia                                     1                    3  \n",
       "Eastern Europe                                   1                    4  \n",
       "Latin America and the Caribbean                  0                   25  \n",
       "Melanesia                                        0                    4  \n",
       "Micronesia                                       0                    3  \n",
       "Northern Africa                                  0                    6  \n",
       "Northern America                                 0                    0  \n",
       "Northern Europe                                  2                    0  \n",
       "Polynesia                                        0                    3  \n",
       "South-eastern Asia                               1                    8  \n",
       "Southern Asia                                    0                    9  \n",
       "Southern Europe                                  2                    5  \n",
       "Sub-Saharan Africa                               1                   45  \n",
       "Western Asia                                     1                   10  \n",
       "Western Europe                                   4                    0  "
      ]
     },
     "execution_count": 243,
     "metadata": {},
     "output_type": "execute_result"
    }
   ],
   "source": [
    "crosstab_data=pd.crosstab(data['Region'],data['CE'])\n",
    "crosstab_data"
   ]
  },
  {
   "cell_type": "markdown",
   "id": "1c92b2d0",
   "metadata": {},
   "source": [
    "#### Observations\n",
    "* Sub-Saharan Africa region has higest no. of very low in confidence estimate countries- 45, Surprisingly out of all the 48 countries of Sub-Saharan Africa none are in high confidence\n",
    "* Out of all the 10 highest confidence in estimate countries, maximum countries are from"
   ]
  },
  {
   "cell_type": "markdown",
   "id": "62d1608e",
   "metadata": {},
   "source": [
    "1.Northern Europe (3)\n"
   ]
  },
  {
   "cell_type": "markdown",
   "id": "8fbf5d0b",
   "metadata": {},
   "source": [
    "2.Australia and New Zealand(2)\n"
   ]
  },
  {
   "cell_type": "markdown",
   "id": "53e6955a",
   "metadata": {},
   "source": [
    "3.Western Europe(2)"
   ]
  },
  {
   "cell_type": "markdown",
   "id": "99aaa00d",
   "metadata": {},
   "source": [
    "* Central Asia, Northern Africa & Southern Asia are the only region where all the countries lie under Very Low Confidence."
   ]
  },
  {
   "cell_type": "markdown",
   "id": "6d17cd94",
   "metadata": {},
   "source": [
    "## Visualizing the Data"
   ]
  },
  {
   "cell_type": "markdown",
   "id": "ce815a56",
   "metadata": {},
   "source": [
    "##### Top 10 Countries by Retail Estimate (kg/capita/year)"
   ]
  },
  {
   "cell_type": "code",
   "execution_count": 322,
   "id": "6bd39515",
   "metadata": {
    "scrolled": true
   },
   "outputs": [
    {
     "data": {
      "image/png": "[encoded data removed]",
      "text/plain": [
       "<Figure size 1000x500 with 1 Axes>"
      ]
     },
     "metadata": {},
     "output_type": "display_data"
    }
   ],
   "source": [
    "import matplotlib.pyplot as plt\n",
    "fig=plt.figure(figsize=(10,5))\n",
    "RE_waste=data.nlargest(10,'RE(kg/capita/year)')\n",
    "plt.bar(RE_waste['Country'],RE_waste['RE(kg/capita/year)'])\n",
    "plt.title('Top 10 Countries by Retail_Food_waste(Kg/capita/year)')\n",
    "plt.xticks(rotation=90)\n",
    "plt.xlabel('Countries')\n",
    "plt.ylabel('Retail food_waste (kg/capita/yr)')\n",
    "plt.show()"
   ]
  },
  {
   "cell_type": "markdown",
   "id": "216d6834",
   "metadata": {},
   "source": [
    "##### Top 10 Countries by Food_Service_waste(Kg/capita/year)"
   ]
  },
  {
   "cell_type": "code",
   "execution_count": 307,
   "id": "6835c40f",
   "metadata": {
    "scrolled": true
   },
   "outputs": [
    {
     "data": {
      "image/png": "[encoded data removed]",
      "text/plain": [
       "<Figure size 1500x400 with 1 Axes>"
      ]
     },
     "metadata": {},
     "output_type": "display_data"
    }
   ],
   "source": [
    "fig=plt.figure(figsize=(15,4))\n",
    "FSE_waste=data.nlargest(10,'FSE(kg/capita/year)')\n",
    "plt.bar(FSE_waste['Country'],FSE_waste['FSE(kg/capita/year)'])\n",
    "plt.title('Top 10 Countries by Food_Service_waste(Kg/capita/year)')\n",
    "plt.xticks(rotation=90)\n",
    "plt.xlabel('Countries')\n",
    "plt.ylabel('Food_Service_waste (kg/capita/yr)')\n",
    "plt.show()"
   ]
  },
  {
   "cell_type": "markdown",
   "id": "126fffde",
   "metadata": {},
   "source": [
    "##### Top 10 countries with highest Combined Figures (kg/capita/year).\n"
   ]
  },
  {
   "cell_type": "code",
   "execution_count": 323,
   "id": "97e92f0e",
   "metadata": {
    "scrolled": true
   },
   "outputs": [
    {
     "data": {
      "image/png": "[encoded data removed]",
      "text/plain": [
       "<Figure size 1200x600 with 1 Axes>"
      ]
     },
     "metadata": {},
     "output_type": "display_data"
    }
   ],
   "source": [
    "Combined_waste=data.nlargest(10,'CF(kg/capita/year)')\n",
    "fig=plt.figure(figsize=(12,6))\n",
    "plt.barh(Combined_waste['Country'],Combined_waste['CF(kg/capita/year)'])\n",
    "plt.title('Top 10 Countries with Highest Combined_Total_waste')\n",
    "plt.xlabel('Count')\n",
    "plt.ylabel('Country')\n",
    "plt.show()"
   ]
  },
  {
   "cell_type": "markdown",
   "id": "6760b4fd",
   "metadata": {},
   "source": [
    "#### Average Food Waste by Sector"
   ]
  },
  {
   "cell_type": "code",
   "execution_count": 327,
   "id": "ff6b9f9e",
   "metadata": {},
   "outputs": [
    {
     "data": {
      "image/png": "[encoded data removed]",
      "text/plain": [
       "<Figure size 640x480 with 1 Axes>"
      ]
     },
     "metadata": {},
     "output_type": "display_data"
    }
   ],
   "source": [
    "labels=['Household','Retail','Food_Service']\n",
    "sizes=[data['HE(kg/capita/year)'].mean(),\n",
    "      data['RE(kg/capita/year)'].mean(),\n",
    "      data['FSE(kg/capita/year)'].mean()]\n",
    "plt.pie(sizes,labels=labels,autopct='%1.1f%%')\n",
    "plt.title('Average Food Waste by Sector')\n",
    "plt.show()"
   ]
  },
  {
   "cell_type": "code",
   "execution_count": null,
   "id": "b249027e",
   "metadata": {},
   "outputs": [],
   "source": []
  }
 ],
 "metadata": {
  "kernelspec": {
   "display_name": "Python 3 (ipykernel)",
   "language": "python",
   "name": "python3"
  },
  "language_info": {
   "codemirror_mode": {
    "name": "ipython",
    "version": 3
   },
   "file_extension": ".py",
   "mimetype": "text/x-python",
   "name": "python",
   "nbconvert_exporter": "python",
   "pygments_lexer": "ipython3",
   "version": "3.11.5"
  }
 },
 "nbformat": 4,
 "nbformat_minor": 5
}
